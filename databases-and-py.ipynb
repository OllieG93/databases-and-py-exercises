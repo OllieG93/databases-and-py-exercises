{
 "cells": [
  {
   "cell_type": "markdown",
   "metadata": {
    "azdata_cell_guid": "d7b89799-a102-479f-87b7-f2759ff1962e"
   },
   "source": [
    "# Exercises: Working with Databases in Python\n",
    "\n",
    "For the exercises, we will be practicing the steps outlined in this [article](https://towardsdatascience.com/do-you-know-python-has-a-built-in-database-d553989c87bd). You can skip the portion where the author downloads a separate SQL client to examine the database. "
   ]
  },
  {
   "cell_type": "markdown",
   "metadata": {
    "azdata_cell_guid": "89a0b6d9-821d-44f5-9795-9519809b9108"
   },
   "source": [
    "## Import Libraries\n",
    "\n",
    "We will need `pandas` and `sqlite3`. SQLite is a small, self-contained database engine that comes with Python so you will not have to do any additional installations for this lesson. If you want to connect to a different database engine, such as SQL server, you may need additional libraries such as `sqlalchemy` or `pyodbc` and a tool called a driver which helps to connect a database to an application.\n"
   ]
  },
  {
   "cell_type": "code",
   "execution_count": 14,
   "metadata": {
    "azdata_cell_guid": "865655b0-22e9-47f4-a5df-4bfe97dda4a3",
    "tags": []
   },
   "outputs": [],
   "source": [
    "# Import sqlite3 and pandas.\n",
    "import pandas as pd\n",
    "import sqlite3 as sl"
   ]
  },
  {
   "cell_type": "markdown",
   "metadata": {
    "azdata_cell_guid": "be8436e2-68be-47f8-9fc9-06c235a6a128"
   },
   "source": [
    "## Create a Database\n",
    "\n",
    "In the article, the author shows how to use `sqlite3` to open a connection to an existing database or create a new one. Use this method to make a new database called `exercises.db`."
   ]
  },
  {
   "cell_type": "code",
   "execution_count": 15,
   "metadata": {
    "azdata_cell_guid": "707abc33-c6ee-416e-9358-c799f1fcbb12"
   },
   "outputs": [],
   "source": [
    "# Create a new database called exercises.db.\n",
    "con = sl.connect('exercises.db')"
   ]
  },
  {
   "cell_type": "markdown",
   "metadata": {
    "azdata_cell_guid": "dc9df060-ddc9-4573-bd74-3c97323f85a7"
   },
   "source": [
    "## Create a Table\n",
    "\n",
    "Follow the steps in the article to create a table called `favorite_books.db`. This table should include columns for the title, author, and a short description of why it is a favorite."
   ]
  },
  {
   "cell_type": "code",
   "execution_count": 16,
   "metadata": {
    "azdata_cell_guid": "3cc6b80e-3fa2-4d2e-b2a9-1ea5d68ba01e"
   },
   "outputs": [
    {
     "ename": "OperationalError",
     "evalue": "unknown database FAVORITE_BOOKS",
     "output_type": "error",
     "traceback": [
      "\u001b[1;31m---------------------------------------------------------------------------\u001b[0m",
      "\u001b[1;31mOperationalError\u001b[0m                          Traceback (most recent call last)",
      "\u001b[1;32m<ipython-input-16-a8e95e2058c9>\u001b[0m in \u001b[0;36m<module>\u001b[1;34m\u001b[0m\n\u001b[0;32m      1\u001b[0m \u001b[1;31m# Create a new table in your database.\u001b[0m\u001b[1;33m\u001b[0m\u001b[1;33m\u001b[0m\u001b[1;33m\u001b[0m\u001b[0m\n\u001b[0;32m      2\u001b[0m \u001b[1;32mwith\u001b[0m \u001b[0mcon\u001b[0m\u001b[1;33m:\u001b[0m\u001b[1;33m\u001b[0m\u001b[1;33m\u001b[0m\u001b[0m\n\u001b[1;32m----> 3\u001b[1;33m     con.execute(\"\"\"\n\u001b[0m\u001b[0;32m      4\u001b[0m         CREATE TABLE FAVORITE_BOOKS.DB (\n\u001b[0;32m      5\u001b[0m             \u001b[0mtitle\u001b[0m \u001b[0mTEXT\u001b[0m\u001b[1;33m,\u001b[0m\u001b[1;33m\u001b[0m\u001b[1;33m\u001b[0m\u001b[0m\n",
      "\u001b[1;31mOperationalError\u001b[0m: unknown database FAVORITE_BOOKS"
     ]
    }
   ],
   "source": [
    "# Create a new table in your database.\n",
    "with con:\n",
    "    con.execute(\"\"\"\n",
    "        CREATE TABLE favorite_books.db (\n",
    "            title TEXT,\n",
    "            author TEXT,\n",
    "            description TEXT\n",
    "        );\n",
    "    \"\"\")"
   ]
  },
  {
   "cell_type": "markdown",
   "metadata": {
    "azdata_cell_guid": "e9acec60-1485-45c8-9f12-997f959d44cc"
   },
   "source": [
    "## Insert Records\n",
    "\n",
    "Add 3 entries to your table for your top 3 favorite books."
   ]
  },
  {
   "cell_type": "code",
   "execution_count": 8,
   "metadata": {
    "azdata_cell_guid": "c7b8e386-f3f4-42ad-aa91-a2da2e7904a5"
   },
   "outputs": [],
   "source": [
    "# Add your 3 favorite books to your table.\n",
    "sql = 'INSERT INTO favorite_books.db (title, author, description) values(?,?,?)'\n",
    "data = [\n",
    "    ('Beka Cooper', 'Tamora Pierce', 'Young adult fantasy novel'),\n",
    "    ('Sabriel', 'Garth Nix', 'Fantasy novel'),\n",
    "    ('Clan of the Cave Bear', 'Jean M. Auel', 'Prehistoric fiction')\n",
    "]"
   ]
  },
  {
   "cell_type": "markdown",
   "metadata": {
    "azdata_cell_guid": "b2e48ba7-b418-4418-bb16-598fb82b964c"
   },
   "source": [
    "## Query Your Table\n",
    "\n",
    "Write a `SELECT` query to output the 3 records in your table."
   ]
  },
  {
   "cell_type": "code",
   "execution_count": 12,
   "metadata": {
    "azdata_cell_guid": "c341e7e2-d635-4c26-b744-237c762f7f41",
    "tags": []
   },
   "outputs": [
    {
     "ename": "OperationalError",
     "evalue": "no such table: favorite_books.db",
     "output_type": "error",
     "traceback": [
      "\u001b[1;31m---------------------------------------------------------------------------\u001b[0m",
      "\u001b[1;31mOperationalError\u001b[0m                          Traceback (most recent call last)",
      "\u001b[1;32m<ipython-input-12-070221e15c2a>\u001b[0m in \u001b[0;36m<module>\u001b[1;34m\u001b[0m\n\u001b[0;32m      1\u001b[0m \u001b[1;31m# Write your SELECT query here.\u001b[0m\u001b[1;33m\u001b[0m\u001b[1;33m\u001b[0m\u001b[1;33m\u001b[0m\u001b[0m\n\u001b[0;32m      2\u001b[0m \u001b[1;32mwith\u001b[0m \u001b[0mcon\u001b[0m\u001b[1;33m:\u001b[0m\u001b[1;33m\u001b[0m\u001b[1;33m\u001b[0m\u001b[0m\n\u001b[1;32m----> 3\u001b[1;33m     \u001b[0mdata\u001b[0m \u001b[1;33m=\u001b[0m \u001b[0mcon\u001b[0m\u001b[1;33m.\u001b[0m\u001b[0mexecute\u001b[0m\u001b[1;33m(\u001b[0m\u001b[1;34m\"SELECT * FROM favorite_books.db\"\u001b[0m\u001b[1;33m)\u001b[0m\u001b[1;33m\u001b[0m\u001b[1;33m\u001b[0m\u001b[0m\n\u001b[0m\u001b[0;32m      4\u001b[0m     \u001b[1;32mfor\u001b[0m \u001b[0mrow\u001b[0m \u001b[1;32min\u001b[0m \u001b[0mdata\u001b[0m\u001b[1;33m:\u001b[0m\u001b[1;33m\u001b[0m\u001b[1;33m\u001b[0m\u001b[0m\n\u001b[0;32m      5\u001b[0m         \u001b[0mprint\u001b[0m\u001b[1;33m(\u001b[0m\u001b[0mrow\u001b[0m\u001b[1;33m)\u001b[0m\u001b[1;33m\u001b[0m\u001b[1;33m\u001b[0m\u001b[0m\n",
      "\u001b[1;31mOperationalError\u001b[0m: no such table: favorite_books.db"
     ]
    }
   ],
   "source": [
    "# Write your SELECT query here.\n",
    "with con:\n",
    "    data = con.execute(\"SELECT * FROM favorite_books\")\n",
    "    for row in data:\n",
    "        print(row)"
   ]
  },
  {
   "cell_type": "markdown",
   "metadata": {
    "azdata_cell_guid": "2127737d-71cd-4f0d-a84e-b1db8ad54af7"
   },
   "source": [
    "## Create a New Table with Pandas\n",
    "\n",
    "Create a new table called `favorite_movies` with your top 3 favorite movies. Each movie should have an id and a title. This time, use Pandas to first make a dataframe and then write the dataframe to SQL. Write a `SELECT` query to confirm that the new table does have your top 3 favorite movies."
   ]
  },
  {
   "cell_type": "code",
   "execution_count": 20,
   "metadata": {
    "azdata_cell_guid": "b4b6dd20-ccc0-42e7-b1e7-79d8596b3f9c"
   },
   "outputs": [],
   "source": [
    "# Use Pandas to make a new table in your database.\n"
   ]
  }
 ],
 "metadata": {
  "kernelspec": {
   "display_name": "Python 3 (ipykernel)",
   "language": "python",
   "name": "python3"
  },
  "language_info": {
   "codemirror_mode": {
    "name": "ipython",
    "version": 3
   },
   "file_extension": ".py",
   "mimetype": "text/x-python",
   "name": "python",
   "nbconvert_exporter": "python",
   "pygments_lexer": "ipython3",
   "version": "3.8.8"
  }
 },
 "nbformat": 4,
 "nbformat_minor": 2
}
